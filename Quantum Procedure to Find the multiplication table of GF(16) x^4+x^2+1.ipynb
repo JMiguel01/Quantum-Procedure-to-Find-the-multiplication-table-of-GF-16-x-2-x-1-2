{
  "nbformat": 4,
  "nbformat_minor": 0,
  "metadata": {
    "colab": {
      "provenance": []
    },
    "kernelspec": {
      "name": "python3",
      "display_name": "Python 3"
    },
    "language_info": {
      "name": "python"
    }
  },
  "cells": [
    {
      "cell_type": "code",
      "execution_count": 19,
      "metadata": {
        "colab": {
          "base_uri": "https://localhost:8080/"
        },
        "id": "sg2k33z4D6b-",
        "outputId": "75c83b60-40c4-46a5-d416-433bddc0d7c8"
      },
      "outputs": [
        {
          "output_type": "stream",
          "name": "stdout",
          "text": [
            "Requirement already satisfied: qiskit in /usr/local/lib/python3.10/dist-packages (0.45.1)\n",
            "Requirement already satisfied: qiskit-terra==0.45.1 in /usr/local/lib/python3.10/dist-packages (from qiskit) (0.45.1)\n",
            "Requirement already satisfied: rustworkx>=0.13.0 in /usr/local/lib/python3.10/dist-packages (from qiskit-terra==0.45.1->qiskit) (0.13.2)\n",
            "Requirement already satisfied: numpy<2,>=1.17 in /usr/local/lib/python3.10/dist-packages (from qiskit-terra==0.45.1->qiskit) (1.23.5)\n",
            "Requirement already satisfied: ply>=3.10 in /usr/local/lib/python3.10/dist-packages (from qiskit-terra==0.45.1->qiskit) (3.11)\n",
            "Requirement already satisfied: psutil>=5 in /usr/local/lib/python3.10/dist-packages (from qiskit-terra==0.45.1->qiskit) (5.9.5)\n",
            "Requirement already satisfied: scipy>=1.5 in /usr/local/lib/python3.10/dist-packages (from qiskit-terra==0.45.1->qiskit) (1.11.4)\n",
            "Requirement already satisfied: sympy>=1.3 in /usr/local/lib/python3.10/dist-packages (from qiskit-terra==0.45.1->qiskit) (1.12)\n",
            "Requirement already satisfied: dill>=0.3 in /usr/local/lib/python3.10/dist-packages (from qiskit-terra==0.45.1->qiskit) (0.3.7)\n",
            "Requirement already satisfied: python-dateutil>=2.8.0 in /usr/local/lib/python3.10/dist-packages (from qiskit-terra==0.45.1->qiskit) (2.8.2)\n",
            "Requirement already satisfied: stevedore>=3.0.0 in /usr/local/lib/python3.10/dist-packages (from qiskit-terra==0.45.1->qiskit) (5.1.0)\n",
            "Requirement already satisfied: symengine!=0.10.0,>=0.9 in /usr/local/lib/python3.10/dist-packages (from qiskit-terra==0.45.1->qiskit) (0.11.0)\n",
            "Requirement already satisfied: typing-extensions in /usr/local/lib/python3.10/dist-packages (from qiskit-terra==0.45.1->qiskit) (4.5.0)\n",
            "Requirement already satisfied: six>=1.5 in /usr/local/lib/python3.10/dist-packages (from python-dateutil>=2.8.0->qiskit-terra==0.45.1->qiskit) (1.16.0)\n",
            "Requirement already satisfied: pbr!=2.1.0,>=2.0.0 in /usr/local/lib/python3.10/dist-packages (from stevedore>=3.0.0->qiskit-terra==0.45.1->qiskit) (6.0.0)\n",
            "Requirement already satisfied: mpmath>=0.19 in /usr/local/lib/python3.10/dist-packages (from sympy>=1.3->qiskit-terra==0.45.1->qiskit) (1.3.0)\n"
          ]
        }
      ],
      "source": [
        "pip install qiskit\n"
      ]
    },
    {
      "cell_type": "code",
      "source": [
        "pip install tweedledum"
      ],
      "metadata": {
        "colab": {
          "base_uri": "https://localhost:8080/"
        },
        "id": "FIUdYA8PEFIj",
        "outputId": "9c4ce8e9-92d1-4b3d-a1a7-44ac2f492932"
      },
      "execution_count": 20,
      "outputs": [
        {
          "output_type": "stream",
          "name": "stdout",
          "text": [
            "Requirement already satisfied: tweedledum in /usr/local/lib/python3.10/dist-packages (1.1.1)\n"
          ]
        }
      ]
    },
    {
      "cell_type": "code",
      "source": [
        "pip install qiskit-aer"
      ],
      "metadata": {
        "colab": {
          "base_uri": "https://localhost:8080/"
        },
        "id": "USR73oixjnKu",
        "outputId": "9c01e477-e9d7-4c44-ec35-2236e5eb142d"
      },
      "execution_count": 21,
      "outputs": [
        {
          "output_type": "stream",
          "name": "stdout",
          "text": [
            "Requirement already satisfied: qiskit-aer in /usr/local/lib/python3.10/dist-packages (0.13.1)\n",
            "Requirement already satisfied: qiskit>=0.44.0 in /usr/local/lib/python3.10/dist-packages (from qiskit-aer) (0.45.1)\n",
            "Requirement already satisfied: numpy>=1.16.3 in /usr/local/lib/python3.10/dist-packages (from qiskit-aer) (1.23.5)\n",
            "Requirement already satisfied: scipy>=1.0 in /usr/local/lib/python3.10/dist-packages (from qiskit-aer) (1.11.4)\n",
            "Requirement already satisfied: psutil>=5 in /usr/local/lib/python3.10/dist-packages (from qiskit-aer) (5.9.5)\n",
            "Requirement already satisfied: qiskit-terra==0.45.1 in /usr/local/lib/python3.10/dist-packages (from qiskit>=0.44.0->qiskit-aer) (0.45.1)\n",
            "Requirement already satisfied: rustworkx>=0.13.0 in /usr/local/lib/python3.10/dist-packages (from qiskit-terra==0.45.1->qiskit>=0.44.0->qiskit-aer) (0.13.2)\n",
            "Requirement already satisfied: ply>=3.10 in /usr/local/lib/python3.10/dist-packages (from qiskit-terra==0.45.1->qiskit>=0.44.0->qiskit-aer) (3.11)\n",
            "Requirement already satisfied: sympy>=1.3 in /usr/local/lib/python3.10/dist-packages (from qiskit-terra==0.45.1->qiskit>=0.44.0->qiskit-aer) (1.12)\n",
            "Requirement already satisfied: dill>=0.3 in /usr/local/lib/python3.10/dist-packages (from qiskit-terra==0.45.1->qiskit>=0.44.0->qiskit-aer) (0.3.7)\n",
            "Requirement already satisfied: python-dateutil>=2.8.0 in /usr/local/lib/python3.10/dist-packages (from qiskit-terra==0.45.1->qiskit>=0.44.0->qiskit-aer) (2.8.2)\n",
            "Requirement already satisfied: stevedore>=3.0.0 in /usr/local/lib/python3.10/dist-packages (from qiskit-terra==0.45.1->qiskit>=0.44.0->qiskit-aer) (5.1.0)\n",
            "Requirement already satisfied: symengine!=0.10.0,>=0.9 in /usr/local/lib/python3.10/dist-packages (from qiskit-terra==0.45.1->qiskit>=0.44.0->qiskit-aer) (0.11.0)\n",
            "Requirement already satisfied: typing-extensions in /usr/local/lib/python3.10/dist-packages (from qiskit-terra==0.45.1->qiskit>=0.44.0->qiskit-aer) (4.5.0)\n",
            "Requirement already satisfied: six>=1.5 in /usr/local/lib/python3.10/dist-packages (from python-dateutil>=2.8.0->qiskit-terra==0.45.1->qiskit>=0.44.0->qiskit-aer) (1.16.0)\n",
            "Requirement already satisfied: pbr!=2.1.0,>=2.0.0 in /usr/local/lib/python3.10/dist-packages (from stevedore>=3.0.0->qiskit-terra==0.45.1->qiskit>=0.44.0->qiskit-aer) (6.0.0)\n",
            "Requirement already satisfied: mpmath>=0.19 in /usr/local/lib/python3.10/dist-packages (from sympy>=1.3->qiskit-terra==0.45.1->qiskit>=0.44.0->qiskit-aer) (1.3.0)\n"
          ]
        }
      ]
    },
    {
      "cell_type": "code",
      "source": [
        "from qiskit.circuit import classical_function,  Int1\n",
        "@classical_function\n",
        "def grover_oracle(a4: Int1, a5: Int1, a6: Int1, a7: Int1, a8: Int1, a9:Int1, a10: Int1, a11: Int1,a12:Int1, a13:Int1 ,a14:Int1, a15:Int1) -> Int1:\n",
        "  return ((a12&a9 ^ a13&a8)&(a4&a9 ^ a5&a8)&(a12&a5 ^ a12&a9 ^\n",
        "a13&a4 ^ a13&a8 ^ a4&a9 ^ a5&a8)&(a10&a13 ^ a10&a15 ^ a10 ^ a11&a12\n",
        "^ a11&a14 ^ a11 ^ a12&a9 ^ a12 ^ a13&a8 ^ a14&a9 ^ a14 ^ a15&a8 ^ a8\n",
        "^ (not  a9))&(a10&a4 ^ a10&a7 ^ a10 ^ a11&a4 ^ a11&a5 ^ a11&a6 ^ a4&a9\n",
        "^ a5&a8 ^ a5 ^ a6&a8 ^ a6 ^ a7&a8 ^ a7&a9 ^ a7 ^ a8 ^ (not\n",
        "a9))&(a10&a12 ^ a10&a13 ^ a10&a15 ^ a10&a4 ^ a10&a5 ^ a10&a7 ^\n",
        "a11&a13 ^ a11&a14 ^ a11&a5 ^ a11&a6 ^ a11 ^ a12&a5 ^ a12&a6 ^ a12&a9\n",
        "^ a13&a4 ^ a13&a6 ^ a13&a7 ^ a13&a8 ^ a13 ^ a14&a4 ^ a14&a5 ^ a14&a7\n",
        "^ a14&a8 ^ a14&a9 ^ a14 ^ a15&a5 ^ a15&a6 ^ a15&a9 ^ a4&a9 ^ a4 ^\n",
        "a5&a8 ^ a6&a8 ^ a6&a9 ^ a6 ^ a7&a9 ^ a7 ^ a8 ^ (not  a9))&(a10&a12 ^\n",
        "a10&a13 ^ a10&a15 ^ a10 ^ a11&a13 ^ a11&a14 ^ a12&a9 ^ a12 ^ a13&a8\n",
        "^ a13 ^ a14&a8 ^ a14&a9 ^ a15&a9 ^ a15 ^(not  a9))&(a10&a5 ^ a10&a7 ^\n",
        "a11&a4 ^ a11&a6 ^ a11 ^ a4&a9 ^ a4 ^ a5&a8 ^ a6&a9 ^ a6 ^ a7&a8 ^ (not\n",
        "a9))&(a10&a12 ^ a10&a15 ^ a10&a4 ^ a10&a7 ^ a10 ^ a11&a12 ^ a11&a13\n",
        "^ a11&a14 ^ a11&a4 ^ a11&a5 ^ a11&a6 ^ a11 ^ a12&a5 ^ a12&a6 ^\n",
        "a12&a7 ^ a12&a9 ^ a12 ^ a13&a4 ^ a13&a7 ^ a13&a8 ^ a14&a4 ^ a14&a7 ^\n",
        "a14&a8 ^ a15&a4 ^ a15&a5 ^ a15&a6 ^ a15&a8 ^ a15&a9 ^ a15 ^ a4&a9 ^\n",
        "a4 ^ a5&a8 ^ a5 ^ a6&a8 ^ a6 ^ a7&a8 ^ a7&a9 ^ (not  a9))&(a10&a12 ^\n",
        "a10&a15 ^ a11&a12 ^ a11&a13 ^ a11&a14 ^ a11 ^ a12&a9 ^ a13&a8 ^ a13\n",
        "^ a14&a8 ^ a14 ^ a15&a8 ^ a15&a9 ^ a15 ^ (not  a8))&(a10&a4 ^ a10&a5 ^\n",
        "a10&a7 ^ a10 ^ a11&a5 ^ a11&a6 ^ a11 ^ a4&a9 ^ a4 ^ a5&a8 ^ a5 ^\n",
        "a6&a8 ^ a6&a9 ^ a7&a9 ^ a7 ^ (not  a8) )&(a10&a13 ^ a10&a15 ^ a10&a5 ^\n",
        "a10&a7 ^ a10 ^ a11&a12 ^ a11&a14 ^ a11&a4 ^ a11&a6 ^ a12&a5 ^ a12&a7\n",
        "^ a12&a9 ^ a12 ^ a13&a4 ^ a13&a6 ^ a13&a8 ^ a13 ^ a14&a5 ^ a14&a7 ^\n",
        "a14&a9 ^ a14 ^ a15&a4 ^ a15&a6 ^ a15&a8 ^ a15 ^ a4&a9 ^ a5&a8 ^ a5 ^\n",
        "a6&a9 ^ a7&a8 ^ a7 ^ (not  a8) )\n",
        ")\n",
        "quantum_circuitnc2 = grover_oracle.synth()\n",
        "quantum_circuitnc2.draw()"
      ],
      "metadata": {
        "colab": {
          "base_uri": "https://localhost:8080/",
          "height": 522
        },
        "id": "L42RLOMaIH_x",
        "outputId": "8745ee06-e034-47f8-89dd-df6d730e3733"
      },
      "execution_count": 87,
      "outputs": [
        {
          "output_type": "stream",
          "name": "stderr",
          "text": [
            "<ipython-input-87-a65e8fe5747b>:1: DeprecationWarning: Accessing 'classical_function' from 'qiskit.circuit' is deprecated since Qiskit Terra 0.22 and will be removed in 0.23.  Import from 'qiskit.circuit.classicalfunction' instead. This will require installing 'tweedledum' as an optional dependency from Terra 0.23.\n",
            "  from qiskit.circuit import classical_function,  Int1\n",
            "<ipython-input-87-a65e8fe5747b>:1: DeprecationWarning: Accessing 'Int1' from 'qiskit.circuit' is deprecated since Qiskit Terra 0.22 and will be removed in 0.23.  Import from 'qiskit.circuit.classicalfunction.types' instead. This will require installing 'tweedledum' as an optional dependency from Terra 0.23.\n",
            "  from qiskit.circuit import classical_function,  Int1\n"
          ]
        },
        {
          "output_type": "execute_result",
          "data": {
            "text/plain": [
              "                                    \n",
              " q_0: ──■────■────■────■────o────o──\n",
              "        │    │    │    │    │    │  \n",
              " q_1: ──■────■────o────o────■────■──\n",
              "        │    │    │    │    │    │  \n",
              " q_2: ──■────■────■────o────■────o──\n",
              "        │    │    │    │    │    │  \n",
              " q_3: ──■────o────■────■────o────■──\n",
              "        │    │    │    │    │    │  \n",
              " q_4: ──■────■────o────o────■────■──\n",
              "        │    │    │    │    │    │  \n",
              " q_5: ──o────o────■────■────■────■──\n",
              "        │    │    │    │    │    │  \n",
              " q_6: ──■────o────■────■────o────■──\n",
              "        │    │    │    │    │    │  \n",
              " q_7: ──o────■────o────■────■────■──\n",
              "        │    │    │    │    │    │  \n",
              " q_8: ──o────o────■────■────■────■──\n",
              "        │    │    │    │    │    │  \n",
              " q_9: ──■────■────■────■────o────o──\n",
              "        │    │    │    │    │    │  \n",
              "q_10: ──o────■────o────■────■────■──\n",
              "        │    │    │    │    │    │  \n",
              "q_11: ──■────■────■────o────■────o──\n",
              "      ┌─┴─┐┌─┴─┐┌─┴─┐┌─┴─┐┌─┴─┐┌─┴─┐\n",
              "q_12: ┤ X ├┤ X ├┤ X ├┤ X ├┤ X ├┤ X ├\n",
              "      └───┘└───┘└───┘└───┘└───┘└───┘"
            ],
            "text/html": [
              "<pre style=\"word-wrap: normal;white-space: pre;background: #fff0;line-height: 1.1;font-family: &quot;Courier New&quot;,Courier,monospace\">                                    \n",
              " q_0: ──■────■────■────■────o────o──\n",
              "        │    │    │    │    │    │  \n",
              " q_1: ──■────■────o────o────■────■──\n",
              "        │    │    │    │    │    │  \n",
              " q_2: ──■────■────■────o────■────o──\n",
              "        │    │    │    │    │    │  \n",
              " q_3: ──■────o────■────■────o────■──\n",
              "        │    │    │    │    │    │  \n",
              " q_4: ──■────■────o────o────■────■──\n",
              "        │    │    │    │    │    │  \n",
              " q_5: ──o────o────■────■────■────■──\n",
              "        │    │    │    │    │    │  \n",
              " q_6: ──■────o────■────■────o────■──\n",
              "        │    │    │    │    │    │  \n",
              " q_7: ──o────■────o────■────■────■──\n",
              "        │    │    │    │    │    │  \n",
              " q_8: ──o────o────■────■────■────■──\n",
              "        │    │    │    │    │    │  \n",
              " q_9: ──■────■────■────■────o────o──\n",
              "        │    │    │    │    │    │  \n",
              "q_10: ──o────■────o────■────■────■──\n",
              "        │    │    │    │    │    │  \n",
              "q_11: ──■────■────■────o────■────o──\n",
              "      ┌─┴─┐┌─┴─┐┌─┴─┐┌─┴─┐┌─┴─┐┌─┴─┐\n",
              "q_12: ┤ X ├┤ X ├┤ X ├┤ X ├┤ X ├┤ X ├\n",
              "      └───┘└───┘└───┘└───┘└───┘└───┘</pre>"
            ]
          },
          "metadata": {},
          "execution_count": 87
        }
      ]
    },
    {
      "cell_type": "code",
      "source": [
        "from qiskit import Aer\n",
        "from qiskit import QuantumCircuit, QuantumRegister, ClassicalRegister, transpile, assemble\n",
        "import random\n",
        "\n",
        "\n",
        "def diffuser(nqubits):\n",
        "    qc = QuantumCircuit(nqubits)\n",
        "    # Apply transformation |s> -> |00..0> (H-gates)\n",
        "    for qubit in range(nqubits):\n",
        "        qc.h(qubit)\n",
        "    # Apply transformation |00..0> -> |11..1> (X-gates)\n",
        "    for qubit in range(nqubits):\n",
        "        qc.x(qubit)\n",
        "    # Do multi-controlled-Z gate\n",
        "    qc.h(nqubits-1)\n",
        "    qc.mct(list(range(nqubits-1)), nqubits-1)  # multi-controlled-toffoli\n",
        "    qc.h(nqubits-1)\n",
        "    # Apply transformation |11..1> -> |00..0>\n",
        "    for qubit in range(nqubits):\n",
        "        qc.x(qubit)\n",
        "    # Apply transformation |00..0> -> |s>\n",
        "    for qubit in range(nqubits):\n",
        "        qc.h(qubit)\n",
        "    # We will return the diffuser as a gate\n",
        "    U_s = qc.to_gate()\n",
        "    U_s.name = \"U_s\"\n",
        "    return U_s\n",
        "\n",
        "qreg1 = QuantumRegister(13)\n",
        "creg1 = ClassicalRegister(12)\n",
        "\n",
        "qc1 = QuantumCircuit(qreg1,creg1)\n",
        "# Initialize qubits in state |s>\n",
        "qc1.x(12)\n",
        "qc1.h(range(13))\n",
        "qc1.barrier()\n",
        "test_list = []\n",
        "for j in range(63):\n",
        "    test_list.append(j)\n",
        "# using random.choice() to\n",
        "# get a random number\n",
        "random_num = random.choice(test_list)\n",
        "print(random_num)\n",
        "for j in range(random_num):\n",
        "    qc1.compose(quantum_circuitnc2, inplace = True)\n",
        "    qc1.barrier()\n",
        "\n",
        "    qc1.append(diffuser(12), range(12))\n",
        "\n",
        "qc1.barrier()\n",
        "\n",
        "qc1.h(12)\n",
        "#qc.x(range(10))\n",
        "\n",
        "# Measure the variable qubits\n",
        "qc1.measure(range(12), range(12))\n",
        "\n",
        "aer_sim = Aer.get_backend('aer_simulator')\n",
        "transpiled_qc1 = transpile(qc1, aer_sim)\n",
        "qobjqc1 = assemble(transpiled_qc1)\n",
        "resultsqc1 = aer_sim.run(qobjqc1,shots =1).result()\n",
        "countsqc1 = resultsqc1.get_counts()\n",
        "print(countsqc1)"
      ],
      "metadata": {
        "colab": {
          "base_uri": "https://localhost:8080/"
        },
        "id": "V2Ckub2siaMh",
        "outputId": "681b2089-5e17-4501-c211-bbe4e7e12935"
      },
      "execution_count": 104,
      "outputs": [
        {
          "output_type": "stream",
          "name": "stdout",
          "text": [
            "22\n"
          ]
        },
        {
          "output_type": "stream",
          "name": "stderr",
          "text": [
            "<ipython-input-104-ae19554fe155>:16: DeprecationWarning: The method ``qiskit.circuit.quantumcircuit.QuantumCircuit.mct()`` is deprecated as of qiskit 0.45.0. It will be removed no earlier than 3 months after the release date. Use QuantumCircuit.mcx as direct replacement.\n",
            "  qc.mct(list(range(nqubits-1)), nqubits-1)  # multi-controlled-toffoli\n"
          ]
        },
        {
          "output_type": "stream",
          "name": "stdout",
          "text": [
            "{'101001011111': 1}\n"
          ]
        },
        {
          "output_type": "stream",
          "name": "stderr",
          "text": [
            "<ipython-input-104-ae19554fe155>:61: DeprecationWarning: Using a qobj for run() is deprecated as of qiskit-aer 0.9.0 and will be removed no sooner than 3 months from that release date. Transpiled circuits should now be passed directly using `backend.run(circuits, **run_options).\n",
            "  resultsqc1 = aer_sim.run(qobjqc1,shots =1).result()\n"
          ]
        }
      ]
    },
    {
      "cell_type": "code",
      "source": [
        "from qiskit.circuit.library.standard_gates.x import XGate, MCXGate\n",
        "qreg1 = QuantumRegister(13)\n",
        "creg1 = ClassicalRegister(12)\n",
        "q1 = QuantumCircuit(qreg1,creg1)\n",
        "control1 = MCXGate(12, None, '101001011111')\n",
        "q1.append(control1, [0, 1, 2, 3, 4 ,5 ,6, 7, 8, 9, 10, 11, 12])\n",
        "q1.draw()"
      ],
      "metadata": {
        "colab": {
          "base_uri": "https://localhost:8080/",
          "height": 463
        },
        "id": "79cVhE8gtz9-",
        "outputId": "043dbed5-03c3-42fd-c707-6442272a8fe5"
      },
      "execution_count": 107,
      "outputs": [
        {
          "output_type": "execute_result",
          "data": {
            "text/plain": [
              "              \n",
              " q541_0: ──■──\n",
              "           │  \n",
              " q541_1: ──■──\n",
              "           │  \n",
              " q541_2: ──■──\n",
              "           │  \n",
              " q541_3: ──■──\n",
              "           │  \n",
              " q541_4: ──■──\n",
              "           │  \n",
              " q541_5: ──o──\n",
              "           │  \n",
              " q541_6: ──■──\n",
              "           │  \n",
              " q541_7: ──o──\n",
              "           │  \n",
              " q541_8: ──o──\n",
              "           │  \n",
              " q541_9: ──■──\n",
              "           │  \n",
              "q541_10: ──o──\n",
              "           │  \n",
              "q541_11: ──■──\n",
              "         ┌─┴─┐\n",
              "q541_12: ┤ X ├\n",
              "         └───┘\n",
              " c78: 12/═════\n",
              "              "
            ],
            "text/html": [
              "<pre style=\"word-wrap: normal;white-space: pre;background: #fff0;line-height: 1.1;font-family: &quot;Courier New&quot;,Courier,monospace\">              \n",
              " q541_0: ──■──\n",
              "           │  \n",
              " q541_1: ──■──\n",
              "           │  \n",
              " q541_2: ──■──\n",
              "           │  \n",
              " q541_3: ──■──\n",
              "           │  \n",
              " q541_4: ──■──\n",
              "           │  \n",
              " q541_5: ──o──\n",
              "           │  \n",
              " q541_6: ──■──\n",
              "           │  \n",
              " q541_7: ──o──\n",
              "           │  \n",
              " q541_8: ──o──\n",
              "           │  \n",
              " q541_9: ──■──\n",
              "           │  \n",
              "q541_10: ──o──\n",
              "           │  \n",
              "q541_11: ──■──\n",
              "         ┌─┴─┐\n",
              "q541_12: ┤ X ├\n",
              "         └───┘\n",
              " c78: 12/═════\n",
              "              </pre>"
            ]
          },
          "metadata": {},
          "execution_count": 107
        }
      ]
    },
    {
      "cell_type": "code",
      "source": [
        "qreg1 = QuantumRegister(13)\n",
        "creg1 = ClassicalRegister(12)\n",
        "\n",
        "qc3 = QuantumCircuit(qreg1,creg1)\n",
        "# Initialize qubits in state |s>\n",
        "qc3.x(12)\n",
        "qc3.h(range(13))\n",
        "qc3.barrier()\n",
        "test_list = []\n",
        "for j in range(63):\n",
        "    test_list.append(j)\n",
        "# using random.choice() to\n",
        "# get a random number\n",
        "random_num = random.choice(test_list)\n",
        "print(random_num)\n",
        "for j in range(random_num):\n",
        "    qc3.compose(quantum_circuitnc2, inplace = True)\n",
        "    qc3.compose(q1, inplace = True)\n",
        "    qc3.barrier()\n",
        "\n",
        "    qc3.append(diffuser(12), range(12))\n",
        "\n",
        "qc3.barrier()\n",
        "\n",
        "qc3.h(12)\n",
        "#qc.x(range(10))\n",
        "\n",
        "# Measure the variable qubits\n",
        "qc3.measure(range(12), range(12))\n",
        "\n",
        "aer_sim = Aer.get_backend('aer_simulator')\n",
        "transpiled_qc3 = transpile(qc3, aer_sim)\n",
        "qobjqc3 = assemble(transpiled_qc3)\n",
        "resultsqc3 = aer_sim.run(qobjqc3,shots =1).result()\n",
        "countsqc3 = resultsqc3.get_counts()\n",
        "print(countsqc3)\n",
        "\n"
      ],
      "metadata": {
        "colab": {
          "base_uri": "https://localhost:8080/"
        },
        "id": "i0Re0c_auu3V",
        "outputId": "04740b4c-fc26-48e3-caa2-3bedf4fe29fb"
      },
      "execution_count": 110,
      "outputs": [
        {
          "output_type": "stream",
          "name": "stdout",
          "text": [
            "14\n"
          ]
        },
        {
          "output_type": "stream",
          "name": "stderr",
          "text": [
            "<ipython-input-104-ae19554fe155>:16: DeprecationWarning: The method ``qiskit.circuit.quantumcircuit.QuantumCircuit.mct()`` is deprecated as of qiskit 0.45.0. It will be removed no earlier than 3 months after the release date. Use QuantumCircuit.mcx as direct replacement.\n",
            "  qc.mct(list(range(nqubits-1)), nqubits-1)  # multi-controlled-toffoli\n"
          ]
        },
        {
          "output_type": "stream",
          "name": "stdout",
          "text": [
            "{'011111101001': 1}\n"
          ]
        },
        {
          "output_type": "stream",
          "name": "stderr",
          "text": [
            "<ipython-input-110-e6e1d7cdfd1e>:34: DeprecationWarning: Using a qobj for run() is deprecated as of qiskit-aer 0.9.0 and will be removed no sooner than 3 months from that release date. Transpiled circuits should now be passed directly using `backend.run(circuits, **run_options).\n",
            "  resultsqc3 = aer_sim.run(qobjqc3,shots =1).result()\n"
          ]
        }
      ]
    },
    {
      "cell_type": "code",
      "source": [
        "from qiskit.circuit.library.standard_gates.x import XGate, MCXGate\n",
        "qreg1 = QuantumRegister(13)\n",
        "creg1 = ClassicalRegister(12)\n",
        "q2 = QuantumCircuit(qreg1,creg1)\n",
        "control2 = MCXGate(12, None, '011111101001')\n",
        "q2.append(control2, [0, 1, 2, 3, 4 ,5 ,6, 7, 8, 9, 10, 11, 12])\n",
        "q2.draw()"
      ],
      "metadata": {
        "colab": {
          "base_uri": "https://localhost:8080/",
          "height": 463
        },
        "id": "8eQb-AOcwa0q",
        "outputId": "41a03352-d3cd-4807-c072-52fe49c130a9"
      },
      "execution_count": 111,
      "outputs": [
        {
          "output_type": "execute_result",
          "data": {
            "text/plain": [
              "              \n",
              " q563_0: ──■──\n",
              "           │  \n",
              " q563_1: ──o──\n",
              "           │  \n",
              " q563_2: ──o──\n",
              "           │  \n",
              " q563_3: ──■──\n",
              "           │  \n",
              " q563_4: ──o──\n",
              "           │  \n",
              " q563_5: ──■──\n",
              "           │  \n",
              " q563_6: ──■──\n",
              "           │  \n",
              " q563_7: ──■──\n",
              "           │  \n",
              " q563_8: ──■──\n",
              "           │  \n",
              " q563_9: ──■──\n",
              "           │  \n",
              "q563_10: ──■──\n",
              "           │  \n",
              "q563_11: ──o──\n",
              "         ┌─┴─┐\n",
              "q563_12: ┤ X ├\n",
              "         └───┘\n",
              " c82: 12/═════\n",
              "              "
            ],
            "text/html": [
              "<pre style=\"word-wrap: normal;white-space: pre;background: #fff0;line-height: 1.1;font-family: &quot;Courier New&quot;,Courier,monospace\">              \n",
              " q563_0: ──■──\n",
              "           │  \n",
              " q563_1: ──o──\n",
              "           │  \n",
              " q563_2: ──o──\n",
              "           │  \n",
              " q563_3: ──■──\n",
              "           │  \n",
              " q563_4: ──o──\n",
              "           │  \n",
              " q563_5: ──■──\n",
              "           │  \n",
              " q563_6: ──■──\n",
              "           │  \n",
              " q563_7: ──■──\n",
              "           │  \n",
              " q563_8: ──■──\n",
              "           │  \n",
              " q563_9: ──■──\n",
              "           │  \n",
              "q563_10: ──■──\n",
              "           │  \n",
              "q563_11: ──o──\n",
              "         ┌─┴─┐\n",
              "q563_12: ┤ X ├\n",
              "         └───┘\n",
              " c82: 12/═════\n",
              "              </pre>"
            ]
          },
          "metadata": {},
          "execution_count": 111
        }
      ]
    },
    {
      "cell_type": "code",
      "source": [
        "qc4 = QuantumCircuit(qreg1,creg1)\n",
        "# Initialize qubits in state |s>\n",
        "qc4.x(12)\n",
        "qc4.h(range(13))\n",
        "qc4.barrier()\n",
        "test_list = []\n",
        "for j in range(63):\n",
        "    test_list.append(j)\n",
        "# using random.choice() to\n",
        "# get a random number\n",
        "random_num = random.choice(test_list)\n",
        "print(random_num)\n",
        "for j in range(random_num):\n",
        "    qc4.compose(quantum_circuitnc2, inplace = True)\n",
        "    qc4.compose(q1, inplace = True)\n",
        "    qc4.compose(q2, inplace = True)\n",
        "    qc4.barrier()\n",
        "\n",
        "    qc4.append(diffuser(12), range(12))\n",
        "\n",
        "qc4.barrier()\n",
        "\n",
        "qc4.h(12)\n",
        "#qc.x(range(10))\n",
        "\n",
        "# Measure the variable qubits\n",
        "qc4.measure(range(12), range(12))\n",
        "\n",
        "aer_sim = Aer.get_backend('aer_simulator')\n",
        "transpiled_qc4 = transpile(qc4, aer_sim)\n",
        "qobjqc4 = assemble(transpiled_qc4)\n",
        "resultsqc4 = aer_sim.run(qobjqc4,shots =1).result()\n",
        "countsqc4 = resultsqc4.get_counts()\n",
        "print(countsqc4)\n",
        "\n"
      ],
      "metadata": {
        "colab": {
          "base_uri": "https://localhost:8080/"
        },
        "id": "qTnge7SNw8y8",
        "outputId": "0f70dcf9-bd6f-4cb1-979f-ffca67a1d320"
      },
      "execution_count": 113,
      "outputs": [
        {
          "output_type": "stream",
          "name": "stdout",
          "text": [
            "25\n"
          ]
        },
        {
          "output_type": "stream",
          "name": "stderr",
          "text": [
            "<ipython-input-104-ae19554fe155>:16: DeprecationWarning: The method ``qiskit.circuit.quantumcircuit.QuantumCircuit.mct()`` is deprecated as of qiskit 0.45.0. It will be removed no earlier than 3 months after the release date. Use QuantumCircuit.mcx as direct replacement.\n",
            "  qc.mct(list(range(nqubits-1)), nqubits-1)  # multi-controlled-toffoli\n"
          ]
        },
        {
          "output_type": "stream",
          "name": "stdout",
          "text": [
            "{'101101101101': 1}\n"
          ]
        },
        {
          "output_type": "stream",
          "name": "stderr",
          "text": [
            "<ipython-input-113-fe08d90b9a53>:32: DeprecationWarning: Using a qobj for run() is deprecated as of qiskit-aer 0.9.0 and will be removed no sooner than 3 months from that release date. Transpiled circuits should now be passed directly using `backend.run(circuits, **run_options).\n",
            "  resultsqc4 = aer_sim.run(qobjqc4,shots =1).result()\n"
          ]
        }
      ]
    },
    {
      "cell_type": "code",
      "source": [
        "from qiskit.circuit.library.standard_gates.x import XGate, MCXGate\n",
        "qreg1 = QuantumRegister(13)\n",
        "creg1 = ClassicalRegister(12)\n",
        "q3 = QuantumCircuit(qreg1,creg1)\n",
        "control3 = MCXGate(12, None, '101101101101')\n",
        "q3.append(control3, [0, 1, 2, 3, 4 ,5 ,6, 7, 8, 9, 10, 11, 12])\n",
        "q3.draw()"
      ],
      "metadata": {
        "colab": {
          "base_uri": "https://localhost:8080/",
          "height": 463
        },
        "id": "2VJNIATIw86P",
        "outputId": "73da860c-7739-4043-bc27-16e5c2431ff9"
      },
      "execution_count": 114,
      "outputs": [
        {
          "output_type": "execute_result",
          "data": {
            "text/plain": [
              "              \n",
              " q570_0: ──■──\n",
              "           │  \n",
              " q570_1: ──o──\n",
              "           │  \n",
              " q570_2: ──■──\n",
              "           │  \n",
              " q570_3: ──■──\n",
              "           │  \n",
              " q570_4: ──o──\n",
              "           │  \n",
              " q570_5: ──■──\n",
              "           │  \n",
              " q570_6: ──■──\n",
              "           │  \n",
              " q570_7: ──o──\n",
              "           │  \n",
              " q570_8: ──■──\n",
              "           │  \n",
              " q570_9: ──■──\n",
              "           │  \n",
              "q570_10: ──o──\n",
              "           │  \n",
              "q570_11: ──■──\n",
              "         ┌─┴─┐\n",
              "q570_12: ┤ X ├\n",
              "         └───┘\n",
              " c83: 12/═════\n",
              "              "
            ],
            "text/html": [
              "<pre style=\"word-wrap: normal;white-space: pre;background: #fff0;line-height: 1.1;font-family: &quot;Courier New&quot;,Courier,monospace\">              \n",
              " q570_0: ──■──\n",
              "           │  \n",
              " q570_1: ──o──\n",
              "           │  \n",
              " q570_2: ──■──\n",
              "           │  \n",
              " q570_3: ──■──\n",
              "           │  \n",
              " q570_4: ──o──\n",
              "           │  \n",
              " q570_5: ──■──\n",
              "           │  \n",
              " q570_6: ──■──\n",
              "           │  \n",
              " q570_7: ──o──\n",
              "           │  \n",
              " q570_8: ──■──\n",
              "           │  \n",
              " q570_9: ──■──\n",
              "           │  \n",
              "q570_10: ──o──\n",
              "           │  \n",
              "q570_11: ──■──\n",
              "         ┌─┴─┐\n",
              "q570_12: ┤ X ├\n",
              "         └───┘\n",
              " c83: 12/═════\n",
              "              </pre>"
            ]
          },
          "metadata": {},
          "execution_count": 114
        }
      ]
    },
    {
      "cell_type": "code",
      "source": [
        "qc5 = QuantumCircuit(qreg1,creg1)\n",
        "# Initialize qubits in state |s>\n",
        "qc5.x(12)\n",
        "qc5.h(range(13))\n",
        "qc5.barrier()\n",
        "test_list = []\n",
        "for j in range(63):\n",
        "    test_list.append(j)\n",
        "# using random.choice() to\n",
        "# get a random number\n",
        "random_num = random.choice(test_list)\n",
        "print(random_num)\n",
        "for j in range(random_num):\n",
        "    qc5.compose(quantum_circuitnc2, inplace = True)\n",
        "    qc5.compose(q1, inplace = True)\n",
        "    qc5.compose(q2, inplace = True)\n",
        "    qc5.compose(q3, inplace = True)\n",
        "    qc5.barrier()\n",
        "\n",
        "    qc5.append(diffuser(12), range(12))\n",
        "\n",
        "qc5.barrier()\n",
        "\n",
        "qc5.h(12)\n",
        "#qc.x(range(10))\n",
        "\n",
        "# Measure the variable qubits\n",
        "qc5.measure(range(12), range(12))\n",
        "\n",
        "aer_sim = Aer.get_backend('aer_simulator')\n",
        "transpiled_qc5 = transpile(qc5, aer_sim)\n",
        "qobjqc5 = assemble(transpiled_qc5)\n",
        "resultsqc5 = aer_sim.run(qobjqc5,shots =1).result()\n",
        "countsqc5 = resultsqc5.get_counts()\n",
        "print(countsqc5)\n",
        "\n"
      ],
      "metadata": {
        "colab": {
          "base_uri": "https://localhost:8080/"
        },
        "id": "XVPm8jCHyCdW",
        "outputId": "91a932a7-dd84-4962-be53-0374ad04ea8a"
      },
      "execution_count": 115,
      "outputs": [
        {
          "output_type": "stream",
          "name": "stdout",
          "text": [
            "26\n"
          ]
        },
        {
          "output_type": "stream",
          "name": "stderr",
          "text": [
            "<ipython-input-104-ae19554fe155>:16: DeprecationWarning: The method ``qiskit.circuit.quantumcircuit.QuantumCircuit.mct()`` is deprecated as of qiskit 0.45.0. It will be removed no earlier than 3 months after the release date. Use QuantumCircuit.mcx as direct replacement.\n",
            "  qc.mct(list(range(nqubits-1)), nqubits-1)  # multi-controlled-toffoli\n",
            "<ipython-input-115-c2e48f970eda>:33: DeprecationWarning: Using a qobj for run() is deprecated as of qiskit-aer 0.9.0 and will be removed no sooner than 3 months from that release date. Transpiled circuits should now be passed directly using `backend.run(circuits, **run_options).\n",
            "  resultsqc5 = aer_sim.run(qobjqc5,shots =1).result()\n"
          ]
        },
        {
          "output_type": "stream",
          "name": "stdout",
          "text": [
            "{'111010010111': 1}\n"
          ]
        }
      ]
    },
    {
      "cell_type": "code",
      "source": [
        "from qiskit.circuit.library.standard_gates.x import XGate, MCXGate\n",
        "qreg1 = QuantumRegister(13)\n",
        "creg1 = ClassicalRegister(12)\n",
        "q4 = QuantumCircuit(qreg1,creg1)\n",
        "control4 = MCXGate(12, None, '111010010111')\n",
        "q4.append(control4, [0, 1, 2, 3, 4 ,5 ,6, 7, 8, 9, 10, 11, 12])\n",
        "q4.draw()"
      ],
      "metadata": {
        "colab": {
          "base_uri": "https://localhost:8080/",
          "height": 463
        },
        "id": "maGq5qNKyerG",
        "outputId": "fda9fd32-3afe-48c4-9f1c-5ac78d2472ff"
      },
      "execution_count": 117,
      "outputs": [
        {
          "output_type": "execute_result",
          "data": {
            "text/plain": [
              "              \n",
              " q578_0: ──■──\n",
              "           │  \n",
              " q578_1: ──■──\n",
              "           │  \n",
              " q578_2: ──■──\n",
              "           │  \n",
              " q578_3: ──o──\n",
              "           │  \n",
              " q578_4: ──■──\n",
              "           │  \n",
              " q578_5: ──o──\n",
              "           │  \n",
              " q578_6: ──o──\n",
              "           │  \n",
              " q578_7: ──■──\n",
              "           │  \n",
              " q578_8: ──o──\n",
              "           │  \n",
              " q578_9: ──■──\n",
              "           │  \n",
              "q578_10: ──■──\n",
              "           │  \n",
              "q578_11: ──■──\n",
              "         ┌─┴─┐\n",
              "q578_12: ┤ X ├\n",
              "         └───┘\n",
              " c85: 12/═════\n",
              "              "
            ],
            "text/html": [
              "<pre style=\"word-wrap: normal;white-space: pre;background: #fff0;line-height: 1.1;font-family: &quot;Courier New&quot;,Courier,monospace\">              \n",
              " q578_0: ──■──\n",
              "           │  \n",
              " q578_1: ──■──\n",
              "           │  \n",
              " q578_2: ──■──\n",
              "           │  \n",
              " q578_3: ──o──\n",
              "           │  \n",
              " q578_4: ──■──\n",
              "           │  \n",
              " q578_5: ──o──\n",
              "           │  \n",
              " q578_6: ──o──\n",
              "           │  \n",
              " q578_7: ──■──\n",
              "           │  \n",
              " q578_8: ──o──\n",
              "           │  \n",
              " q578_9: ──■──\n",
              "           │  \n",
              "q578_10: ──■──\n",
              "           │  \n",
              "q578_11: ──■──\n",
              "         ┌─┴─┐\n",
              "q578_12: ┤ X ├\n",
              "         └───┘\n",
              " c85: 12/═════\n",
              "              </pre>"
            ]
          },
          "metadata": {},
          "execution_count": 117
        }
      ]
    },
    {
      "cell_type": "code",
      "source": [
        "qc6 = QuantumCircuit(qreg1,creg1)\n",
        "# Initialize qubits in state |s>\n",
        "qc6.x(12)\n",
        "qc6.h(range(13))\n",
        "qc6.barrier()\n",
        "test_list = []\n",
        "for j in range(63):\n",
        "    test_list.append(j)\n",
        "# using random.choice() to\n",
        "# get a random number\n",
        "random_num = random.choice(test_list)\n",
        "print(random_num)\n",
        "for j in range(random_num):\n",
        "    qc6.compose(quantum_circuitnc2, inplace = True)\n",
        "    qc6.compose(q1, inplace = True)\n",
        "    qc6.compose(q2, inplace = True)\n",
        "    qc6.compose(q3, inplace = True)\n",
        "    qc6.compose(q4, inplace = True)\n",
        "    qc6.barrier()\n",
        "\n",
        "    qc6.append(diffuser(12), range(12))\n",
        "\n",
        "qc6.barrier()\n",
        "\n",
        "qc6.h(12)\n",
        "#qc.x(range(10))\n",
        "\n",
        "# Measure the variable qubits\n",
        "qc6.measure(range(12), range(12))\n",
        "\n",
        "aer_sim = Aer.get_backend('aer_simulator')\n",
        "transpiled_qc6 = transpile(qc6, aer_sim)\n",
        "qobjqc6 = assemble(transpiled_qc6)\n",
        "resultsqc6 = aer_sim.run(qobjqc6,shots =1).result()\n",
        "countsqc6 = resultsqc6.get_counts()\n",
        "print(countsqc6)\n",
        "\n"
      ],
      "metadata": {
        "colab": {
          "base_uri": "https://localhost:8080/"
        },
        "id": "VO1S7fc_zGe_",
        "outputId": "ad284e9c-f574-408f-bdb5-b7d85d90aee7"
      },
      "execution_count": 120,
      "outputs": [
        {
          "output_type": "stream",
          "name": "stdout",
          "text": [
            "43\n"
          ]
        },
        {
          "output_type": "stream",
          "name": "stderr",
          "text": [
            "<ipython-input-104-ae19554fe155>:16: DeprecationWarning: The method ``qiskit.circuit.quantumcircuit.QuantumCircuit.mct()`` is deprecated as of qiskit 0.45.0. It will be removed no earlier than 3 months after the release date. Use QuantumCircuit.mcx as direct replacement.\n",
            "  qc.mct(list(range(nqubits-1)), nqubits-1)  # multi-controlled-toffoli\n",
            "<ipython-input-120-2d4e7e0d9582>:34: DeprecationWarning: Using a qobj for run() is deprecated as of qiskit-aer 0.9.0 and will be removed no sooner than 3 months from that release date. Transpiled circuits should now be passed directly using `backend.run(circuits, **run_options).\n",
            "  resultsqc6 = aer_sim.run(qobjqc6,shots =1).result()\n"
          ]
        },
        {
          "output_type": "stream",
          "name": "stdout",
          "text": [
            "{'010111111010': 1}\n"
          ]
        }
      ]
    },
    {
      "cell_type": "code",
      "source": [
        "from qiskit.circuit.library.standard_gates.x import XGate, MCXGate\n",
        "qreg1 = QuantumRegister(13)\n",
        "creg1 = ClassicalRegister(12)\n",
        "q5 = QuantumCircuit(qreg1,creg1)\n",
        "control5 = MCXGate(12, None, '010111111010')\n",
        "q5.append(control5, [0, 1, 2, 3, 4 ,5 ,6, 7, 8, 9, 10, 11, 12])\n",
        "q5.draw()"
      ],
      "metadata": {
        "colab": {
          "base_uri": "https://localhost:8080/",
          "height": 463
        },
        "id": "161Qktgy1dWI",
        "outputId": "fd32621e-f044-4c74-c183-a1236560c540"
      },
      "execution_count": 121,
      "outputs": [
        {
          "output_type": "execute_result",
          "data": {
            "text/plain": [
              "              \n",
              " q597_0: ──o──\n",
              "           │  \n",
              " q597_1: ──■──\n",
              "           │  \n",
              " q597_2: ──o──\n",
              "           │  \n",
              " q597_3: ──■──\n",
              "           │  \n",
              " q597_4: ──■──\n",
              "           │  \n",
              " q597_5: ──■──\n",
              "           │  \n",
              " q597_6: ──■──\n",
              "           │  \n",
              " q597_7: ──■──\n",
              "           │  \n",
              " q597_8: ──■──\n",
              "           │  \n",
              " q597_9: ──o──\n",
              "           │  \n",
              "q597_10: ──■──\n",
              "           │  \n",
              "q597_11: ──o──\n",
              "         ┌─┴─┐\n",
              "q597_12: ┤ X ├\n",
              "         └───┘\n",
              " c86: 12/═════\n",
              "              "
            ],
            "text/html": [
              "<pre style=\"word-wrap: normal;white-space: pre;background: #fff0;line-height: 1.1;font-family: &quot;Courier New&quot;,Courier,monospace\">              \n",
              " q597_0: ──o──\n",
              "           │  \n",
              " q597_1: ──■──\n",
              "           │  \n",
              " q597_2: ──o──\n",
              "           │  \n",
              " q597_3: ──■──\n",
              "           │  \n",
              " q597_4: ──■──\n",
              "           │  \n",
              " q597_5: ──■──\n",
              "           │  \n",
              " q597_6: ──■──\n",
              "           │  \n",
              " q597_7: ──■──\n",
              "           │  \n",
              " q597_8: ──■──\n",
              "           │  \n",
              " q597_9: ──o──\n",
              "           │  \n",
              "q597_10: ──■──\n",
              "           │  \n",
              "q597_11: ──o──\n",
              "         ┌─┴─┐\n",
              "q597_12: ┤ X ├\n",
              "         └───┘\n",
              " c86: 12/═════\n",
              "              </pre>"
            ]
          },
          "metadata": {},
          "execution_count": 121
        }
      ]
    },
    {
      "cell_type": "code",
      "source": [
        "qc7 = QuantumCircuit(qreg1,creg1)\n",
        "# Initialize qubits in state |s>\n",
        "qc7.x(12)\n",
        "qc7.h(range(13))\n",
        "qc7.barrier()\n",
        "test_list = []\n",
        "for j in range(63):\n",
        "    test_list.append(j)\n",
        "# using random.choice() to\n",
        "# get a random number\n",
        "random_num = random.choice(test_list)\n",
        "print(random_num)\n",
        "for j in range(random_num):\n",
        "    qc7.compose(quantum_circuitnc2, inplace = True)\n",
        "    qc7.compose(q1, inplace = True)\n",
        "    qc7.compose(q2, inplace = True)\n",
        "    qc7.compose(q3, inplace = True)\n",
        "    qc7.compose(q4, inplace = True)\n",
        "    qc7.compose(q5, inplace = True)\n",
        "    qc7.barrier()\n",
        "\n",
        "    qc7.append(diffuser(12), range(12))\n",
        "\n",
        "qc7.barrier()\n",
        "\n",
        "qc7.h(12)\n",
        "#qc.x(range(10))\n",
        "\n",
        "# Measure the variable qubits\n",
        "qc7.measure(range(12), range(12))\n",
        "\n",
        "aer_sim = Aer.get_backend('aer_simulator')\n",
        "transpiled_qc7 = transpile(qc7, aer_sim)\n",
        "qobjqc7 = assemble(transpiled_qc7)\n",
        "resultsqc7 = aer_sim.run(qobjqc7,shots =1).result()\n",
        "countsqc7 = resultsqc7.get_counts()\n",
        "print(countsqc7)\n",
        "\n"
      ],
      "metadata": {
        "colab": {
          "base_uri": "https://localhost:8080/"
        },
        "id": "33LDl8_41s8B",
        "outputId": "7d0e97ad-4480-459c-e00d-a9ad6c0831a5"
      },
      "execution_count": 123,
      "outputs": [
        {
          "output_type": "stream",
          "name": "stdout",
          "text": [
            "16\n"
          ]
        },
        {
          "output_type": "stream",
          "name": "stderr",
          "text": [
            "<ipython-input-104-ae19554fe155>:16: DeprecationWarning: The method ``qiskit.circuit.quantumcircuit.QuantumCircuit.mct()`` is deprecated as of qiskit 0.45.0. It will be removed no earlier than 3 months after the release date. Use QuantumCircuit.mcx as direct replacement.\n",
            "  qc.mct(list(range(nqubits-1)), nqubits-1)  # multi-controlled-toffoli\n"
          ]
        },
        {
          "output_type": "stream",
          "name": "stdout",
          "text": [
            "{'110110110110': 1}\n"
          ]
        },
        {
          "output_type": "stream",
          "name": "stderr",
          "text": [
            "<ipython-input-123-58cd474906df>:35: DeprecationWarning: Using a qobj for run() is deprecated as of qiskit-aer 0.9.0 and will be removed no sooner than 3 months from that release date. Transpiled circuits should now be passed directly using `backend.run(circuits, **run_options).\n",
            "  resultsqc7 = aer_sim.run(qobjqc7,shots =1).result()\n"
          ]
        }
      ]
    },
    {
      "cell_type": "code",
      "source": [
        "from qiskit.circuit.library.standard_gates.x import XGate, MCXGate\n",
        "qreg1 = QuantumRegister(13)\n",
        "creg1 = ClassicalRegister(12)\n",
        "q6 = QuantumCircuit(qreg1,creg1)\n",
        "control6 = MCXGate(12, None, '110110110110')\n",
        "q6.append(control6, [0, 1, 2, 3, 4 ,5 ,6, 7, 8, 9, 10, 11, 12])\n",
        "q6.draw()"
      ],
      "metadata": {
        "colab": {
          "base_uri": "https://localhost:8080/",
          "height": 463
        },
        "id": "OaFoFo6a29ed",
        "outputId": "c36cf855-d94a-4c62-a3a1-909c7a0a1a00"
      },
      "execution_count": 125,
      "outputs": [
        {
          "output_type": "execute_result",
          "data": {
            "text/plain": [
              "              \n",
              " q611_0: ──o──\n",
              "           │  \n",
              " q611_1: ──■──\n",
              "           │  \n",
              " q611_2: ──■──\n",
              "           │  \n",
              " q611_3: ──o──\n",
              "           │  \n",
              " q611_4: ──■──\n",
              "           │  \n",
              " q611_5: ──■──\n",
              "           │  \n",
              " q611_6: ──o──\n",
              "           │  \n",
              " q611_7: ──■──\n",
              "           │  \n",
              " q611_8: ──■──\n",
              "           │  \n",
              " q611_9: ──o──\n",
              "           │  \n",
              "q611_10: ──■──\n",
              "           │  \n",
              "q611_11: ──■──\n",
              "         ┌─┴─┐\n",
              "q611_12: ┤ X ├\n",
              "         └───┘\n",
              " c88: 12/═════\n",
              "              "
            ],
            "text/html": [
              "<pre style=\"word-wrap: normal;white-space: pre;background: #fff0;line-height: 1.1;font-family: &quot;Courier New&quot;,Courier,monospace\">              \n",
              " q611_0: ──o──\n",
              "           │  \n",
              " q611_1: ──■──\n",
              "           │  \n",
              " q611_2: ──■──\n",
              "           │  \n",
              " q611_3: ──o──\n",
              "           │  \n",
              " q611_4: ──■──\n",
              "           │  \n",
              " q611_5: ──■──\n",
              "           │  \n",
              " q611_6: ──o──\n",
              "           │  \n",
              " q611_7: ──■──\n",
              "           │  \n",
              " q611_8: ──■──\n",
              "           │  \n",
              " q611_9: ──o──\n",
              "           │  \n",
              "q611_10: ──■──\n",
              "           │  \n",
              "q611_11: ──■──\n",
              "         ┌─┴─┐\n",
              "q611_12: ┤ X ├\n",
              "         └───┘\n",
              " c88: 12/═════\n",
              "              </pre>"
            ]
          },
          "metadata": {},
          "execution_count": 125
        }
      ]
    },
    {
      "cell_type": "code",
      "source": [
        "qc8 = QuantumCircuit(qreg1,creg1)\n",
        "# Initialize qubits in state |s>\n",
        "qc8.x(12)\n",
        "qc8.h(range(13))\n",
        "qc8.barrier()\n",
        "test_list = []\n",
        "for j in range(63):\n",
        "    test_list.append(j)\n",
        "# using random.choice() to\n",
        "# get a random number\n",
        "random_num = random.choice(test_list)\n",
        "print(random_num)\n",
        "for j in range(random_num):\n",
        "    qc8.compose(quantum_circuitnc2, inplace = True)\n",
        "    qc8.compose(q1, inplace = True)\n",
        "    qc8.compose(q2, inplace = True)\n",
        "    qc8.compose(q3, inplace = True)\n",
        "    qc8.compose(q4, inplace = True)\n",
        "    qc8.compose(q5, inplace = True)\n",
        "    qc8.barrier()\n",
        "\n",
        "    qc8.append(diffuser(12), range(12))\n",
        "\n",
        "qc8.barrier()\n",
        "\n",
        "qc8.h(12)\n",
        "#qc.x(range(10))\n",
        "\n",
        "# Measure the variable qubits\n",
        "qc8.measure(range(12), range(12))\n",
        "\n",
        "aer_sim = Aer.get_backend('aer_simulator')\n",
        "transpiled_qc8 = transpile(qc8, aer_sim)\n",
        "qobjqc8 = assemble(transpiled_qc8)\n",
        "resultsqc8 = aer_sim.run(qobjqc8,shots =1).result()\n",
        "countsqc8 = resultsqc8.get_counts()\n",
        "print(countsqc8)"
      ],
      "metadata": {
        "colab": {
          "base_uri": "https://localhost:8080/"
        },
        "id": "X9L4RlHb3IXC",
        "outputId": "11b2b220-b5de-4145-e1f9-3bf90bdce795"
      },
      "execution_count": 136,
      "outputs": [
        {
          "output_type": "stream",
          "name": "stdout",
          "text": [
            "13\n"
          ]
        },
        {
          "output_type": "stream",
          "name": "stderr",
          "text": [
            "<ipython-input-104-ae19554fe155>:16: DeprecationWarning: The method ``qiskit.circuit.quantumcircuit.QuantumCircuit.mct()`` is deprecated as of qiskit 0.45.0. It will be removed no earlier than 3 months after the release date. Use QuantumCircuit.mcx as direct replacement.\n",
            "  qc.mct(list(range(nqubits-1)), nqubits-1)  # multi-controlled-toffoli\n"
          ]
        },
        {
          "output_type": "stream",
          "name": "stdout",
          "text": [
            "{'100101110011': 1}\n"
          ]
        },
        {
          "output_type": "stream",
          "name": "stderr",
          "text": [
            "<ipython-input-136-d1312c707975>:35: DeprecationWarning: Using a qobj for run() is deprecated as of qiskit-aer 0.9.0 and will be removed no sooner than 3 months from that release date. Transpiled circuits should now be passed directly using `backend.run(circuits, **run_options).\n",
            "  resultsqc8 = aer_sim.run(qobjqc8,shots =1).result()\n"
          ]
        }
      ]
    },
    {
      "cell_type": "code",
      "source": [
        "qreg1 = QuantumRegister(13)\n",
        "creg1 = ClassicalRegister(12)\n",
        "\n",
        "qc2 = QuantumCircuit(qreg1,creg1)\n",
        "# Initialize qubits in state |s>\n",
        "qc2.x(12)\n",
        "qc2.h(range(13))\n",
        "qc2.barrier()\n",
        "test_list = []\n",
        "for j in range(63):\n",
        "    test_list.append(j)\n",
        "# using random.choice() to\n",
        "# get a random number\n",
        "random_num = random.choice(test_list)\n",
        "print(random_num)\n",
        "for j in range(random_num):\n",
        "    qc2.compose(quantum_circuitnc2, inplace = True)\n",
        "    qc2.compose(q1, inplace = True)\n",
        "    qc2.barrier()\n",
        "\n",
        "    qc2.append(diffuser(12), range(12))\n",
        "\n",
        "qc2.barrier()\n",
        "\n",
        "qc2.h(12)\n",
        "#qc.x(range(10))\n",
        "\n",
        "# Measure the variable qubits\n",
        "qc2.measure(range(12), range(12))\n",
        "\n",
        "aer_sim = Aer.get_backend('aer_simulator')\n",
        "transpiled_qc2 = transpile(qc2, aer_sim)\n",
        "qobjqc2 = assemble(transpiled_qc2)\n",
        "resultsqc2 = aer_sim.run(qobjqc2,shots =1).result()\n",
        "countsqc2 = resultsqc2.get_counts()\n",
        "print(countsqc2)"
      ],
      "metadata": {
        "colab": {
          "base_uri": "https://localhost:8080/"
        },
        "id": "A5Fe4hn0morL",
        "outputId": "0e1d4c30-88ca-423c-ec4c-5b8c92b24681"
      },
      "execution_count": 101,
      "outputs": [
        {
          "output_type": "stream",
          "name": "stdout",
          "text": [
            "15\n"
          ]
        },
        {
          "output_type": "stream",
          "name": "stderr",
          "text": [
            "<ipython-input-95-ae19554fe155>:16: DeprecationWarning: The method ``qiskit.circuit.quantumcircuit.QuantumCircuit.mct()`` is deprecated as of qiskit 0.45.0. It will be removed no earlier than 3 months after the release date. Use QuantumCircuit.mcx as direct replacement.\n",
            "  qc.mct(list(range(nqubits-1)), nqubits-1)  # multi-controlled-toffoli\n",
            "<ipython-input-101-60436cf31b83>:33: DeprecationWarning: Using a qobj for run() is deprecated as of qiskit-aer 0.9.0 and will be removed no sooner than 3 months from that release date. Transpiled circuits should now be passed directly using `backend.run(circuits, **run_options).\n",
            "  resultsqc2 = aer_sim.run(qobjqc2,shots =1).result()\n"
          ]
        },
        {
          "output_type": "stream",
          "name": "stdout",
          "text": [
            "{'111010010111': 1}\n"
          ]
        }
      ]
    },
    {
      "cell_type": "code",
      "source": [],
      "metadata": {
        "colab": {
          "base_uri": "https://localhost:8080/",
          "height": 463
        },
        "id": "zg7AHd9A2vjB",
        "outputId": "5fceb162-ce9a-4d83-efee-cd01a75e05a8"
      },
      "execution_count": 124,
      "outputs": [
        {
          "output_type": "execute_result",
          "data": {
            "text/plain": [
              "              \n",
              " q610_0: ──■──\n",
              "           │  \n",
              " q610_1: ──■──\n",
              "           │  \n",
              " q610_2: ──■──\n",
              "           │  \n",
              " q610_3: ──o──\n",
              "           │  \n",
              " q610_4: ──■──\n",
              "           │  \n",
              " q610_5: ──o──\n",
              "           │  \n",
              " q610_6: ──o──\n",
              "           │  \n",
              " q610_7: ──■──\n",
              "           │  \n",
              " q610_8: ──o──\n",
              "           │  \n",
              " q610_9: ──■──\n",
              "           │  \n",
              "q610_10: ──■──\n",
              "           │  \n",
              "q610_11: ──■──\n",
              "         ┌─┴─┐\n",
              "q610_12: ┤ X ├\n",
              "         └───┘\n",
              " c87: 12/═════\n",
              "              "
            ],
            "text/html": [
              "<pre style=\"word-wrap: normal;white-space: pre;background: #fff0;line-height: 1.1;font-family: &quot;Courier New&quot;,Courier,monospace\">              \n",
              " q610_0: ──■──\n",
              "           │  \n",
              " q610_1: ──■──\n",
              "           │  \n",
              " q610_2: ──■──\n",
              "           │  \n",
              " q610_3: ──o──\n",
              "           │  \n",
              " q610_4: ──■──\n",
              "           │  \n",
              " q610_5: ──o──\n",
              "           │  \n",
              " q610_6: ──o──\n",
              "           │  \n",
              " q610_7: ──■──\n",
              "           │  \n",
              " q610_8: ──o──\n",
              "           │  \n",
              " q610_9: ──■──\n",
              "           │  \n",
              "q610_10: ──■──\n",
              "           │  \n",
              "q610_11: ──■──\n",
              "         ┌─┴─┐\n",
              "q610_12: ┤ X ├\n",
              "         └───┘\n",
              " c87: 12/═════\n",
              "              </pre>"
            ]
          },
          "metadata": {},
          "execution_count": 124
        }
      ]
    },
    {
      "cell_type": "code",
      "source": [],
      "metadata": {
        "id": "hMTP5wXagBc3"
      },
      "execution_count": null,
      "outputs": []
    }
  ]
}